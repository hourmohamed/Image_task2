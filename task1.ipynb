{
 "cells": [
  {
   "cell_type": "code",
   "execution_count": 1,
   "metadata": {},
   "outputs": [],
   "source": [
    "import numpy as np\n",
    "import cv2"
   ]
  },
  {
   "cell_type": "code",
   "execution_count": 2,
   "metadata": {},
   "outputs": [],
   "source": [
    "capture = cv2.VideoCapture('assets/video.mp4')\n",
    "\n",
    "\n",
    "while(True):\n",
    "    #capture the video\n",
    "    isTrue, frame=capture.read()\n",
    "    #convert the range of the colors from bgr to hsv\n",
    "    hsv_frame = cv2.cvtColor(frame, cv2.COLOR_BGR2HSV)\n",
    "    \n",
    "    #termination condition\n",
    "    if(cv2.waitKey(20) and 0xFF == 27):\n",
    "        break\n",
    "\n",
    "    #set the range of the color to be extracted\n",
    "    hsv_lower = np.array([94, 35, 176])\n",
    "    hsv_upper = np.array([113, 210, 255])\n",
    "\n",
    "    \n",
    "    mask = cv2.inRange(hsv_frame,hsv_lower,hsv_upper)\n",
    "    #apply the mask\n",
    "    newFrame = cv2.bitwise_and(frame, frame, mask=mask)\n",
    "    cv2.imshow('frame',newFrame)\n",
    "\n",
    "\n",
    "capture.release()\n",
    "cv2.destroyAllWindows()"
   ]
  }
 ],
 "metadata": {
  "kernelspec": {
   "display_name": "Python 3",
   "language": "python",
   "name": "python3"
  },
  "language_info": {
   "codemirror_mode": {
    "name": "ipython",
    "version": 3
   },
   "file_extension": ".py",
   "mimetype": "text/x-python",
   "name": "python",
   "nbconvert_exporter": "python",
   "pygments_lexer": "ipython3",
   "version": "3.11.4"
  },
  "orig_nbformat": 4
 },
 "nbformat": 4,
 "nbformat_minor": 2
}
