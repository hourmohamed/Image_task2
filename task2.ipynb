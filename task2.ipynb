{
 "cells": [
  {
   "cell_type": "code",
   "execution_count": 1,
   "metadata": {},
   "outputs": [],
   "source": [
    "import cv2\n",
    "import numpy as np\n",
    "import matplotlib.pyplot as plt"
   ]
  },
  {
   "cell_type": "code",
   "execution_count": 2,
   "metadata": {},
   "outputs": [],
   "source": [
    "image = cv2.imread('woman.jpeg')\n",
    "\n",
    "#kernel_size = (11, 11)\n",
    "#sigma = 10\n",
    "\n",
    "#kernel =np.ones(kernel_size)\n",
    "\n",
    "kernel = np.array([\n",
    "                  [0, 1, 2, 1, 0],\n",
    "                  [1, 4, 4, 4, 1],\n",
    "                  [2, 4, 8, 4, 2],\n",
    "                  [1, 4, 4, 4, 1],\n",
    "                  [0, 1, 2, 1, 0]])\n",
    "\n",
    "\n",
    "\n",
    "avgkernel = kernel/56\n",
    "\n",
    "\n",
    "\n",
    "blurredImage = cv2.filter2D(image, -1,avgkernel)\n",
    "cv2.imshow(\"blurred image\",blurredImage)\n",
    "cv2.imshow(\"image\",image)\n",
    "\n",
    "\n",
    "\n",
    "cv2.waitKey(0)\n",
    "cv2.destroyAllWindows()\n"
   ]
  },
  {
   "cell_type": "code",
   "execution_count": null,
   "metadata": {},
   "outputs": [],
   "source": []
  }
 ],
 "metadata": {
  "kernelspec": {
   "display_name": "Python 3",
   "language": "python",
   "name": "python3"
  },
  "language_info": {
   "codemirror_mode": {
    "name": "ipython",
    "version": 3
   },
   "file_extension": ".py",
   "mimetype": "text/x-python",
   "name": "python",
   "nbconvert_exporter": "python",
   "pygments_lexer": "ipython3",
   "version": "3.11.4"
  },
  "orig_nbformat": 4
 },
 "nbformat": 4,
 "nbformat_minor": 2
}
