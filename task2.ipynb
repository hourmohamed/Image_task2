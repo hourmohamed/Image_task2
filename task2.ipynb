{
 "cells": [
  {
   "cell_type": "code",
   "execution_count": 3,
   "metadata": {},
   "outputs": [],
   "source": [
    "import cv2\n",
    "import numpy as np\n",
    "import matplotlib.pyplot as plt"
   ]
  },
  {
   "cell_type": "code",
   "execution_count": 5,
   "metadata": {},
   "outputs": [],
   "source": [
    "image = cv2.imread('woman.jpeg')\n",
    "\n",
    "\n",
    "sigma = 3\n",
    "size = 15\n",
    "\n",
    "#gaussian kernel\n",
    "x, y = np.meshgrid(np.arange(size) - size//2, np.arange(size) - size//2)\n",
    "kernel = np.exp(-(x**2 + y**2) / (2 * sigma**2))\n",
    "kernel /= np.sum(kernel)\n",
    "\n",
    "\n",
    "blurredImage = cv2.filter2D(image, -1, kernel)\n",
    "\n",
    "cv2.imshow(\"blurred image\",blurredImage)\n",
    "cv2.imshow(\"image\",image)\n",
    "\n",
    "cv2.waitKey(0)\n",
    "cv2.destroyAllWindows()\n"
   ]
  }
 ],
 "metadata": {
  "kernelspec": {
   "display_name": "Python 3",
   "language": "python",
   "name": "python3"
  },
  "language_info": {
   "codemirror_mode": {
    "name": "ipython",
    "version": 3
   },
   "file_extension": ".py",
   "mimetype": "text/x-python",
   "name": "python",
   "nbconvert_exporter": "python",
   "pygments_lexer": "ipython3",
   "version": "3.11.4"
  },
  "orig_nbformat": 4
 },
 "nbformat": 4,
 "nbformat_minor": 2
}
